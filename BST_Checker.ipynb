{
  "nbformat": 4,
  "nbformat_minor": 0,
  "metadata": {
    "colab": {
      "name": "BST_Checker.ipynb",
      "provenance": [],
      "authorship_tag": "ABX9TyN1tSydOM1tHUNVFA+xjQCI",
      "include_colab_link": true
    },
    "kernelspec": {
      "name": "python3",
      "display_name": "Python 3"
    },
    "language_info": {
      "name": "python"
    }
  },
  "cells": [
    {
      "cell_type": "markdown",
      "metadata": {
        "id": "view-in-github",
        "colab_type": "text"
      },
      "source": [
        "<a href=\"https://colab.research.google.com/github/JustinWNicholson/APP-IRATE/blob/master/BST_Checker.ipynb\" target=\"_parent\"><img src=\"https://colab.research.google.com/assets/colab-badge.svg\" alt=\"Open In Colab\"/></a>"
      ]
    },
    {
      "cell_type": "markdown",
      "metadata": {
        "id": "LCnJtA8zuKlY"
      },
      "source": [
        "# Problem Analysis"
      ]
    },
    {
      "cell_type": "markdown",
      "metadata": {
        "id": "9RkSVVDPuGzN"
      },
      "source": [
        "Problem Statement: \n",
        " Write a function to check that a binary tree ↴ is a valid binary search tree"
      ]
    },
    {
      "cell_type": "markdown",
      "metadata": {
        "id": "dFLjbokbuP3G"
      },
      "source": [
        "Start with definitions.\n",
        "1.   A binary tree is one where each node has two or fewer child nodes\n",
        "2.   a binary search tree is one where: \n",
        "  1.   The nodes to the left are smaller than the current node.\n",
        "  2.   The nodes to the right are larger than the current node.\n",
        "\n",
        "\n",
        "\n"
      ]
    },
    {
      "cell_type": "markdown",
      "metadata": {
        "id": "atINliWfxfyn"
      },
      "source": [
        "What sort of things do we need in the end? What can we get from definitions?\n",
        "Tree goes in --> binary search True/False (yes / no) comes out\n"
      ]
    },
    {
      "cell_type": "markdown",
      "metadata": {
        "id": "j-XqSbmWxn9h"
      },
      "source": [
        "We can borrow from the greedy paradigm and bring a max and min value \"down the tree\" as we traverse it. This type of solution lends itself to a DFS"
      ]
    },
    {
      "cell_type": "code",
      "metadata": {
        "id": "9WPULI2xuAp4"
      },
      "source": [
        "def balance_checker(tree_root):\n",
        "  #Are there edge cases to handle???\n",
        "  \n",
        "  #What if the tree doesn't exist or is wrong data type??\n",
        "  if not tree_root:\n",
        "    return True\n",
        "  if type(tree_root) is not BinaryTreeNode:\n",
        "    raise TypeError\n",
        "\n",
        "\n",
        "  ## initialization stuff\n",
        "  nodes_to_visit = []\n",
        "  #append 3-ple with node to append, max value and min value\n",
        "  nodes_to_visit.append((tree_root, None, None))\n",
        "\n",
        "  while nodes_to_visit:\n",
        "    #pull out current node value, max and min values:\n",
        "    current_node, maximum, minimum = nodes_to_visit.pop()\n",
        "    print(current_node, maximum, minimum)\n",
        "    #short circuit appropriately\n",
        "    \n",
        "    if minimum is not None:\n",
        "      if current_node.value < minimum:\n",
        "        return False \n",
        "\n",
        "    if maximum is not None:\n",
        "      if current_node.value > maximum:\n",
        "        return False \n",
        "\n",
        "    #if we don't short circuit, we'll add the child nodes to the stack for checking and update the max/min values\n",
        "\n",
        "    if current_node.left:\n",
        "      nodes_to_visit.append((current_node.left, current_node.value, minimum))\n",
        "\n",
        "    if current_node.right:\n",
        "      nodes_to_visit.append((current_node.right, maximum, current_node.value))\n",
        "\n",
        "  #Eventually we'll want to return true if the short-circuit conditions are not triggered\n",
        "  return True"
      ],
      "execution_count": 84,
      "outputs": []
    },
    {
      "cell_type": "code",
      "metadata": {
        "id": "qOwuoNs7T62E"
      },
      "source": [
        "class BinaryTreeNode(object):\n",
        "\n",
        "        def __init__(self, value):\n",
        "            self.value = value\n",
        "            self.left = None\n",
        "            self.right = None\n",
        "\n",
        "        def insert_left(self, value):\n",
        "            self.left = BinaryTreeNode(value)\n",
        "            return self.left\n",
        "\n",
        "        def insert_right(self, value):\n",
        "            self.right = BinaryTreeNode(value)\n",
        "            return self.right"
      ],
      "execution_count": 60,
      "outputs": []
    }
  ]
}